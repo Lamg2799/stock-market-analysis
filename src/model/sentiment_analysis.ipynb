{
 "cells": [
  {
   "cell_type": "code",
   "execution_count": 1,
   "id": "953ca47e",
   "metadata": {},
   "outputs": [
    {
     "name": "stderr",
     "output_type": "stream",
     "text": [
      "2022-05-31 18:16:00.242986: W tensorflow/stream_executor/platform/default/dso_loader.cc:64] Could not load dynamic library 'libcudart.so.11.0'; dlerror: libcudart.so.11.0: cannot open shared object file: No such file or directory\n",
      "2022-05-31 18:16:00.243012: I tensorflow/stream_executor/cuda/cudart_stub.cc:29] Ignore above cudart dlerror if you do not have a GPU set up on your machine.\n"
     ]
    }
   ],
   "source": [
    "# Import libraries\n",
    "import pandas as pd\n",
    "import numpy as np\n",
    "from sklearn.model_selection import train_test_split\n",
    "from sklearn.feature_extraction.text import CountVectorizer\n",
    "from sklearn.naive_bayes import MultinomialNB\n",
    "import spacy\n",
    "from spacy.lang.en.stop_words import STOP_WORDS\n",
    "import string\n",
    "import re"
   ]
  },
  {
   "cell_type": "code",
   "execution_count": 2,
   "id": "8bceb8a0",
   "metadata": {},
   "outputs": [],
   "source": [
    "# Put the datasets in a dataframes\n",
    "# Make sure you put financial-dataset.csv and all-data.csv in your colab space, or locally\n",
    "df1 = pd.read_csv(\"datasets/financial-dataset.csv\", encoding=\"ISO-8859-1\")\n",
    "df2 = pd.read_csv(\"datasets/all-data.csv\", encoding=\"ISO-8859-1\")\n",
    "df3 = pd.read_csv(\"datasets/stock_data.csv\", encoding=\"ISO-8859-1\")\n",
    "\n",
    "# Pre-process the stock_data dataset to have the same features as the other two datasets (Sentiment, Sentence)\n",
    "df3 = df3.rename(columns = {'Text': 'Sentence'})\n",
    "df3['Sentiment'] = df3['Sentiment'].replace(1,'positive')\n",
    "df3['Sentiment'] = df3['Sentiment'].replace(-1,'negative')\n",
    "df1 = df1[df1['Sentiment'] != 'neutral'] \n",
    "df2 = df2[df2['Sentiment'] != 'neutral']\n",
    "\n",
    "# Combine dfs\n",
    "df = pd.concat([df1, df2, df3], ignore_index=True)\n"
   ]
  },
  {
   "cell_type": "code",
   "execution_count": 3,
   "id": "f8ad8e8d",
   "metadata": {
    "scrolled": true
   },
   "outputs": [
    {
     "name": "stdout",
     "output_type": "stream",
     "text": [
      "Number of records with each sentiment:\n",
      "\n",
      "Positive:\n",
      "6900 \n",
      "\n",
      "Negative:\n",
      "3570 \n",
      "\n",
      "Neutral:\n",
      "0 \n",
      "\n",
      "Data example:\n",
      "\n"
     ]
    },
    {
     "data": {
      "text/html": [
       "<div>\n",
       "<style scoped>\n",
       "    .dataframe tbody tr th:only-of-type {\n",
       "        vertical-align: middle;\n",
       "    }\n",
       "\n",
       "    .dataframe tbody tr th {\n",
       "        vertical-align: top;\n",
       "    }\n",
       "\n",
       "    .dataframe thead th {\n",
       "        text-align: right;\n",
       "    }\n",
       "</style>\n",
       "<table border=\"1\" class=\"dataframe\">\n",
       "  <thead>\n",
       "    <tr style=\"text-align: right;\">\n",
       "      <th></th>\n",
       "      <th>Sentence</th>\n",
       "      <th>Sentiment</th>\n",
       "    </tr>\n",
       "  </thead>\n",
       "  <tbody>\n",
       "    <tr>\n",
       "      <th>10460</th>\n",
       "      <td>#CoronavirusPandemic \\n\\nAs bad as #China's ec...</td>\n",
       "      <td>negative</td>\n",
       "    </tr>\n",
       "    <tr>\n",
       "      <th>10461</th>\n",
       "      <td>#China #CoronavirusPandemic \\n\\nThe economy wa...</td>\n",
       "      <td>negative</td>\n",
       "    </tr>\n",
       "    <tr>\n",
       "      <th>10462</th>\n",
       "      <td>Reliance Industries raises Rs 8,500 crore usin...</td>\n",
       "      <td>positive</td>\n",
       "    </tr>\n",
       "    <tr>\n",
       "      <th>10463</th>\n",
       "      <td>Goldman Sachs tells investors to go defensive ...</td>\n",
       "      <td>negative</td>\n",
       "    </tr>\n",
       "    <tr>\n",
       "      <th>10464</th>\n",
       "      <td>#TCS #share price jumps 9% on no #layoffs, #di...</td>\n",
       "      <td>positive</td>\n",
       "    </tr>\n",
       "    <tr>\n",
       "      <th>10465</th>\n",
       "      <td>Industry body CII said #discoms are likely to ...</td>\n",
       "      <td>negative</td>\n",
       "    </tr>\n",
       "    <tr>\n",
       "      <th>10466</th>\n",
       "      <td>#Gold prices slip below Rs 46,000 as #investor...</td>\n",
       "      <td>negative</td>\n",
       "    </tr>\n",
       "    <tr>\n",
       "      <th>10467</th>\n",
       "      <td>Workers at Bajaj Auto have agreed to a 10% wag...</td>\n",
       "      <td>positive</td>\n",
       "    </tr>\n",
       "    <tr>\n",
       "      <th>10468</th>\n",
       "      <td>#Sharemarket LIVE: Sensex off dayâs high, up...</td>\n",
       "      <td>positive</td>\n",
       "    </tr>\n",
       "    <tr>\n",
       "      <th>10469</th>\n",
       "      <td>#Sensex, #Nifty climb off day's highs, still u...</td>\n",
       "      <td>positive</td>\n",
       "    </tr>\n",
       "  </tbody>\n",
       "</table>\n",
       "</div>"
      ],
      "text/plain": [
       "                                                Sentence Sentiment\n",
       "10460  #CoronavirusPandemic \\n\\nAs bad as #China's ec...  negative\n",
       "10461  #China #CoronavirusPandemic \\n\\nThe economy wa...  negative\n",
       "10462  Reliance Industries raises Rs 8,500 crore usin...  positive\n",
       "10463  Goldman Sachs tells investors to go defensive ...  negative\n",
       "10464  #TCS #share price jumps 9% on no #layoffs, #di...  positive\n",
       "10465  Industry body CII said #discoms are likely to ...  negative\n",
       "10466  #Gold prices slip below Rs 46,000 as #investor...  negative\n",
       "10467  Workers at Bajaj Auto have agreed to a 10% wag...  positive\n",
       "10468  #Sharemarket LIVE: Sensex off dayâs high, up...  positive\n",
       "10469  #Sensex, #Nifty climb off day's highs, still u...  positive"
      ]
     },
     "execution_count": 3,
     "metadata": {},
     "output_type": "execute_result"
    }
   ],
   "source": [
    "# Print important info for understanding data\n",
    "print('Number of records with each sentiment:\\n')\n",
    "print('Positive:')\n",
    "print(len(df[df[\"Sentiment\"] == \"positive\"]), '\\n')\n",
    "print('Negative:')\n",
    "print(len(df[df[\"Sentiment\"] == \"negative\"]), '\\n')\n",
    "print('Neutral:')\n",
    "print(len(df[df[\"Sentiment\"] == \"neutral\"]), '\\n')\n",
    "print('Data example:\\n')\n",
    "df.tail(10)"
   ]
  },
  {
   "cell_type": "code",
   "execution_count": 4,
   "id": "78d617e5",
   "metadata": {},
   "outputs": [],
   "source": [
    "# Get a random sample of different sentiments\n",
    "df_positive = df[df[\"Sentiment\"] == \"positive\"].sample(5000)\n",
    "df_negative = df[df[\"Sentiment\"] == \"negative\"]\n",
    "df_neutral = df[df[\"Sentiment\"] == \"neutral\"]\n",
    "df_partial = df_positive.append(df_negative).append(df_neutral)"
   ]
  },
  {
   "cell_type": "code",
   "execution_count": 5,
   "id": "7a767dc2",
   "metadata": {},
   "outputs": [],
   "source": [
    "punctuations = string.punctuation\n",
    "nlp = spacy.load('en_core_web_sm')\n",
    "stop_words = spacy.lang.en.stop_words.STOP_WORDS\n",
    "\n",
    "def clean_sentence(sentence):\n",
    "    # Remove digits\n",
    "    sentence = ''.join([char for char in sentence if not char.isdigit()])\n",
    "    # Remove html text\n",
    "    sentence = re.sub('<[^<]+?>', '', sentence)\n",
    "    \n",
    "    return sentence\n",
    "\n",
    "def spacy_tokenizer(sentence):\n",
    "    \n",
    "    # tokenize\n",
    "    tokens = nlp(sentence)\n",
    "    # Get root words and lowercase\n",
    "    tokens = [word.lemma_.lower().strip() for word in tokens]\n",
    "    # Remove stop words and punctuations\n",
    "    tokens = [word for word in tokens if word not in stop_words and word not in punctuations]\n",
    "    \n",
    "    return tokens\n",
    "    "
   ]
  },
  {
   "cell_type": "code",
   "execution_count": 6,
   "id": "40fb0901",
   "metadata": {},
   "outputs": [],
   "source": [
    "#Split dataset randomly for 80% training and 20% test data\n",
    "train_sentences, test_sentences, train_tags, test_tags = train_test_split(df_partial[\"Sentence\"],\n",
    "                                                                      df_partial[\"Sentiment\"],\n",
    "                                                                      test_size=0.2, \n",
    "                                                                      random_state=3,\n",
    "                                                                      stratify=df_partial[\"Sentiment\"])\n",
    "# For training\n",
    "train_tags = train_tags.to_numpy()\n",
    "train_sentences = train_sentences.apply(clean_sentence)\n",
    "train_sentences = train_sentences.to_numpy()\n",
    "# For testing\n",
    "test_tags = test_tags.to_numpy()\n",
    "test_sentences = test_sentences.apply(clean_sentence)\n",
    "test_sentences = test_sentences.to_numpy()"
   ]
  },
  {
   "cell_type": "code",
   "execution_count": 7,
   "id": "88ac9444",
   "metadata": {},
   "outputs": [
    {
     "name": "stdout",
     "output_type": "stream",
     "text": [
      "Positive words: \n",
      "\n",
      "['a+', 'abound', 'abounds', 'abundance', 'abundant', 'accessable', 'accessible', 'acclaim', 'acclaimed', 'acclamation', 'accolade', 'accolades', 'accommodative', 'accomodative', 'accomplish', 'accomplished', 'accomplishment', 'accomplishments', 'accurate', 'accurately'] \n",
      "\n",
      "Negative words: \n",
      "\n",
      "['abnormal', 'abolish', 'abominable', 'abominably', 'abominate', 'abomination', 'abort', 'aborted', 'aborts', 'abrade', 'abrasive', 'abrupt', 'abruptly', 'abscond', 'absence', 'absent-minded', 'absentee', 'absurd', 'absurdity', 'absurdly']\n"
     ]
    }
   ],
   "source": [
    "with open(\"datasets/positive-words.txt\", encoding = \"ISO-8859-1\") as f:\n",
    "    pos_words = f.readlines()\n",
    "pos_words = [p[0:len(p)-1] for p in pos_words if p[0].isalpha()]\n",
    "\n",
    "# print the first 50 words\n",
    "print('Positive words:','\\n')\n",
    "print(pos_words[:20], '\\n')\n",
    "\n",
    "with open(\"datasets/negative-words.txt\", encoding = \"ISO-8859-1\") as f:\n",
    "    neg_words = f.readlines()\n",
    "neg_words = [p[0:len(p)-1] for p in neg_words if p[0].isalpha()] \n",
    "\n",
    "# Print the first 50 negative words\n",
    "print('Negative words:','\\n')\n",
    "print(neg_words[:20])"
   ]
  },
  {
   "cell_type": "code",
   "execution_count": 8,
   "id": "ff0157c6",
   "metadata": {},
   "outputs": [
    {
     "name": "stdout",
     "output_type": "stream",
     "text": [
      "(6856,)\n",
      "(1714,)\n"
     ]
    }
   ],
   "source": [
    "print(train_sentences.shape)\n",
    "print(test_sentences.shape)"
   ]
  },
  {
   "cell_type": "code",
   "execution_count": 9,
   "id": "32f91676",
   "metadata": {},
   "outputs": [],
   "source": [
    "# The CountVectorizer builds a dictionary of all words (count_vect.vocabulary_), \n",
    "# and generates a matrix (train_counts), to represent each sentence\n",
    "# as a set of indices into the dictionary. The words in the dictionary are the words found in train_sentences.\n",
    "\n",
    "count_vect = CountVectorizer(tokenizer = spacy_tokenizer)\n",
    "train_counts = count_vect.fit_transform(train_sentences)"
   ]
  },
  {
   "cell_type": "code",
   "execution_count": 10,
   "id": "6b6932d4",
   "metadata": {},
   "outputs": [],
   "source": [
    "# Training the model\n",
    "clf = MultinomialNB().fit(train_counts, train_tags) "
   ]
  },
  {
   "cell_type": "code",
   "execution_count": 11,
   "id": "e9e8a06b",
   "metadata": {},
   "outputs": [
    {
     "name": "stdout",
     "output_type": "stream",
     "text": [
      "Correctly classified 6136 total training examples out of 6856 examples\n"
     ]
    }
   ],
   "source": [
    "# Testing on training set\n",
    "predicted = clf.predict(train_counts)\n",
    "correct = 0\n",
    "for tag, pred in zip(train_tags, predicted):   # zip allows to go through two lists simultaneously\n",
    "    if (tag == pred):\n",
    "        correct += 1\n",
    "print(\"Correctly classified %s total training examples out of %s examples\" %(correct, train_tags.size))"
   ]
  },
  {
   "cell_type": "code",
   "execution_count": 12,
   "id": "e72fcd8c",
   "metadata": {},
   "outputs": [
    {
     "name": "stdout",
     "output_type": "stream",
     "text": [
      "Correctly classified 1369 total training examples out of 1714 examples\n"
     ]
    }
   ],
   "source": [
    "# Testing on test set\n",
    "test_counts = count_vect.transform(test_sentences)\n",
    "test_predicted = clf.predict(test_counts)\n",
    "correct = 0\n",
    "for tag, pred in zip(test_tags, test_predicted):\n",
    "    if (tag == pred):\n",
    "        correct += 1\n",
    "print(\"Correctly classified %s total training examples out of %s examples\" %(correct, test_tags.size))"
   ]
  },
  {
   "cell_type": "code",
   "execution_count": 13,
   "id": "8faad29b",
   "metadata": {},
   "outputs": [
    {
     "name": "stdout",
     "output_type": "stream",
     "text": [
      "Recall:\n",
      "\n",
      "Positive:  0.828\n",
      "Negative:  0.757703081232493\n",
      "\n",
      "\n",
      "Precision:\n",
      "\n",
      "Positive:  0.8271728271728271\n",
      "Negative:  0.758765778401122\n",
      "\n",
      "\n",
      "F score:\n",
      "\n",
      "Positive:  0.8275862068965518\n",
      "Negative:  0.7582340574632095\n"
     ]
    }
   ],
   "source": [
    "# Function for recall \n",
    "#\n",
    "#           TPositive\n",
    "#     -----------------------\n",
    "#      TPositive + FNegative\n",
    "\n",
    "def recall(actual_tags, predictions, class_of_interest):\n",
    "    true_positive_count, false_negative_count = 0, 0\n",
    "    for i in range(len(actual_tags)):\n",
    "        if (actual_tags[i] == class_of_interest):\n",
    "            if (actual_tags[i] == predictions[i]):\n",
    "                true_positive_count += 1\n",
    "            else:\n",
    "                false_negative_count += 1\n",
    "    return (true_positive_count / (true_positive_count + false_negative_count))\n",
    "\n",
    "# Function for precision\n",
    "#\n",
    "#           TPositive\n",
    "#     -----------------------\n",
    "#      TPositive + FPositive\n",
    "\n",
    "def precision(actual_tags, predictions, class_of_interest):\n",
    "    true_positive_count, false_positive_count = 0, 0\n",
    "    for i in range(len(actual_tags)):\n",
    "        if (actual_tags[i] == class_of_interest and actual_tags[i] == predictions[i]):\n",
    "            true_positive_count += 1\n",
    "        elif (actual_tags[i] != class_of_interest and predictions[i] == class_of_interest):\n",
    "            false_positive_count += 1\n",
    "    return (true_positive_count / (true_positive_count + false_positive_count))\n",
    "\n",
    "# Function for f score\n",
    "#\n",
    "#           Precision x Recall\n",
    "#      2 x ---------------------\n",
    "#           Precision + Recall\n",
    "\n",
    "def f_score(precision_score, recall_score):\n",
    "    return ((2 * precision_score * recall_score) / (precision_score + recall_score))\n",
    "\n",
    "# Test recall of model\n",
    "print('Recall:\\n')\n",
    "\n",
    "p_recall = recall(test_tags, test_predicted, \"positive\")\n",
    "neg_recall = recall(test_tags, test_predicted, \"negative\")\n",
    "#neu_recall = recall(test_tags, test_predicted, \"neutral\")\n",
    "\n",
    "print('Positive: ', p_recall)\n",
    "print('Negative: ', neg_recall)\n",
    "#print('Neutral: ', neu_recall)\n",
    "print('\\n')\n",
    "\n",
    "# Test precision of model\n",
    "print('Precision:\\n')\n",
    "\n",
    "p_precision = precision(test_tags, test_predicted, \"positive\")\n",
    "neg_precision = precision(test_tags, test_predicted, \"negative\")\n",
    "#neu_precision = precision(test_tags, test_predicted, \"neutral\")\n",
    "\n",
    "print('Positive: ', p_precision)\n",
    "print('Negative: ', neg_precision)\n",
    "#print('Neutral: ', neu_precision)\n",
    "print('\\n')\n",
    "\n",
    "# Test f score of model\n",
    "print('F score:\\n')\n",
    "print('Positive: ', f_score(p_precision, p_recall))\n",
    "print('Negative: ', f_score(neg_precision, neg_recall))\n",
    "#print('Neutral: ', f_score(neu_precision, neu_recall))\n"
   ]
  },
  {
   "cell_type": "code",
   "execution_count": 15,
   "id": "512e5af8",
   "metadata": {},
   "outputs": [
    {
     "name": "stdout",
     "output_type": "stream",
     "text": [
      "['negative']\n"
     ]
    }
   ],
   "source": [
    "# Test example\n",
    "sentences_test = '(Bloomberg) -- The labor group trying to organize Apple Inc. employees at an Atlanta store is withdrawing its request for an election, citing what it alleges are illegal union-busting tactics by the company.Most Read from BloombergFord Beats Tesla to the Punch With First Electric F-150 DeliveryRussian Wins in Eastern Ukraine Spark Debate Over Course of WarStocks Notch Their Best Week Since November 2020: Markets WrapZilingo’s Fired CEO Responds to Questions of Mystery PaymentsUkraine Latest: US Slams Putin’s Food-for-Sanctions Relief PlanThe Communications Workers of America said it took the step “because Apple’s repeated violations of the National Labor Relations Act have made a free and fair election impossible,” according to an emailed statement Friday. The labor group also cited Covid-19 infections among staff at the store, located at the city’s Cumberland Mall, which it said “have raised concerns about the ability of eligible employees to vote and the safety of in-person voting.”“Apple has conducted a systematic, sophisticated campaign to intimidate them and interfere with their right to form a union,” the CWA said. Under NLRB rules, a union’s choice to withdraw from an election generally means the vote is canceled and the union would have to wait at least six months before petitioning again to represent the same group of workers.The news represents a setback for the nascent efforts by several U.S. unions to organize Apple’s retail stores. In addition to the push in Georgia, workers at stores in New York, Maryland and Kentucky have announced campaigns. The CWA -- a group that won elections this year among Verizon Communications Inc. retail employees, Activision Blizzard Inc. quality-assurance testers and subcontracted Google Fiber staff -- has said it’s been hearing from numerous Apple workers around the country.When asked about the move, Apple said it was “fortunate to have incredible retail team members and we deeply value everything they bring to Apple.”“We are pleased to offer very strong compensation and benefits for full-time and part-time employees, including health care, tuition reimbursement, new parental leave, paid family leave, annual stock grants and many other benefits,” the Cupertino, California-based company said.In complaints filed last week with the National Labor Relations Board, the CWA accused Apple of violating federal labor law by forcing workers in Atlanta and New York City to attend “captive audience” meetings about unionization.Existing precedent allows companies to hold such meetings, but the labor board’s current general counsel, Jennifer Abruzzo, views them as inherently coercive and illegal. And she’s pursuing cases that could change the precedent.Abruzzo, a former CWA attorney, is also trying to resurrect an old doctrine requiring employers to negotiate with a labor group if they have no “good faith doubt” that most employees support the union.In its statement Friday, the CWA said that it had the support of an “overwhelming majority” of the Atlanta store’s workers when it petitioned in April for an election.In the weeks since employees announced their organizing efforts, Apple has moved to boost its pay and warned of potential negative consequences from unionization. In a recent video message, Apple retail chief Deirdre O’Brien told employees, “We have a relationship that is based on an open and collaborative and direct engagement.” She said she worried about “what it would mean to put another organization in the middle of our relationship.”On Wednesday, the company told employees it would hike the minimum pay for its retail staff to $22.The Apple store’s union organizing committee vowed to press on. “We’re going to reset and strengthen our union,” according to an email sent to workers Friday. “We can share our experience with other stores to help them really prepare for what’s coming their way.”The Atlanta workers had been slated to vote June 2 through June 4 in what would have been the first NLRB election at an Apple store. Major unions have sometimes been wary of such elections, because of the leeway federal law provides companies to aggressively campaign against organizing. But in recent months, unions pulled off stunning wins at an Amazon.com Inc. warehouse and dozens of Starbucks Corp. cafes across the country, emboldening workers and organizers elsewhere.“We are dedicated to our work and to supporting each other,” Atlanta employee Derrick Bowles said in a statement shared by the union. “We are on this journey together. We want to create a truly democratic union that aligns with Apple’s public values.”(Updates with union email in 13th paragraph.)Most Read from Bloomberg BusinessweekThe Tech Rout Isn’t Just Cyclical—It’s Well-Earned, and OverdueA New Prediction Market Lets Investors Bet Big on Almost AnythingA Startup Wants to Rescue You From Browser Tab HellElon Musk’s 420-Degree Edgelord Pivot Is Getting StaleMark Zuckerberg Is Blowing Up Instagram to Try and Catch TikTok©2022 Bloomberg L.P.'\n",
    "sentences_test = pd.Series(sentences_test)\n",
    "sentences_test = sentences_test.to_numpy()\n",
    "sentences_test = count_vect.transform(sentences_test)\n",
    "sentences_test = clf.predict(sentences_test)\n",
    "print(sentences_test)"
   ]
  },
  {
   "cell_type": "code",
   "execution_count": 16,
   "id": "aca16f65",
   "metadata": {},
   "outputs": [],
   "source": [
    "import pickle\n",
    "file_name = 'model.pkl'\n",
    "with open(file_name, 'wb') as output_file:\n",
    "    pickle.dump((clf, count_vect), output_file)"
   ]
  },
  {
   "cell_type": "code",
   "execution_count": 17,
   "id": "f8af0551",
   "metadata": {},
   "outputs": [
    {
     "name": "stdout",
     "output_type": "stream",
     "text": [
      "['negative']\n"
     ]
    }
   ],
   "source": [
    "with open('model.pkl', 'rb') as f:\n",
    "    clf_test, count_vect_test = pickle.load(f)\n",
    "sentences_test = '(Bloomberg) -- The labor group trying to organize Apple Inc. employees at an Atlanta store is withdrawing its request for an election, citing what it alleges are illegal union-busting tactics by the company.Most Read from BloombergFord Beats Tesla to the Punch With First Electric F-150 DeliveryRussian Wins in Eastern Ukraine Spark Debate Over Course of WarStocks Notch Their Best Week Since November 2020: Markets WrapZilingo’s Fired CEO Responds to Questions of Mystery PaymentsUkraine Latest: US Slams Putin’s Food-for-Sanctions Relief PlanThe Communications Workers of America said it took the step “because Apple’s repeated violations of the National Labor Relations Act have made a free and fair election impossible,” according to an emailed statement Friday. The labor group also cited Covid-19 infections among staff at the store, located at the city’s Cumberland Mall, which it said “have raised concerns about the ability of eligible employees to vote and the safety of in-person voting.”“Apple has conducted a systematic, sophisticated campaign to intimidate them and interfere with their right to form a union,” the CWA said. Under NLRB rules, a union’s choice to withdraw from an election generally means the vote is canceled and the union would have to wait at least six months before petitioning again to represent the same group of workers.The news represents a setback for the nascent efforts by several U.S. unions to organize Apple’s retail stores. In addition to the push in Georgia, workers at stores in New York, Maryland and Kentucky have announced campaigns. The CWA -- a group that won elections this year among Verizon Communications Inc. retail employees, Activision Blizzard Inc. quality-assurance testers and subcontracted Google Fiber staff -- has said it’s been hearing from numerous Apple workers around the country.When asked about the move, Apple said it was “fortunate to have incredible retail team members and we deeply value everything they bring to Apple.”“We are pleased to offer very strong compensation and benefits for full-time and part-time employees, including health care, tuition reimbursement, new parental leave, paid family leave, annual stock grants and many other benefits,” the Cupertino, California-based company said.In complaints filed last week with the National Labor Relations Board, the CWA accused Apple of violating federal labor law by forcing workers in Atlanta and New York City to attend “captive audience” meetings about unionization.Existing precedent allows companies to hold such meetings, but the labor board’s current general counsel, Jennifer Abruzzo, views them as inherently coercive and illegal. And she’s pursuing cases that could change the precedent.Abruzzo, a former CWA attorney, is also trying to resurrect an old doctrine requiring employers to negotiate with a labor group if they have no “good faith doubt” that most employees support the union.In its statement Friday, the CWA said that it had the support of an “overwhelming majority” of the Atlanta store’s workers when it petitioned in April for an election.In the weeks since employees announced their organizing efforts, Apple has moved to boost its pay and warned of potential negative consequences from unionization. In a recent video message, Apple retail chief Deirdre O’Brien told employees, “We have a relationship that is based on an open and collaborative and direct engagement.” She said she worried about “what it would mean to put another organization in the middle of our relationship.”On Wednesday, the company told employees it would hike the minimum pay for its retail staff to $22.The Apple store’s union organizing committee vowed to press on. “We’re going to reset and strengthen our union,” according to an email sent to workers Friday. “We can share our experience with other stores to help them really prepare for what’s coming their way.”The Atlanta workers had been slated to vote June 2 through June 4 in what would have been the first NLRB election at an Apple store. Major unions have sometimes been wary of such elections, because of the leeway federal law provides companies to aggressively campaign against organizing. But in recent months, unions pulled off stunning wins at an Amazon.com Inc. warehouse and dozens of Starbucks Corp. cafes across the country, emboldening workers and organizers elsewhere.“We are dedicated to our work and to supporting each other,” Atlanta employee Derrick Bowles said in a statement shared by the union. “We are on this journey together. We want to create a truly democratic union that aligns with Apple’s public values.”(Updates with union email in 13th paragraph.)Most Read from Bloomberg BusinessweekThe Tech Rout Isn’t Just Cyclical—It’s Well-Earned, and OverdueA New Prediction Market Lets Investors Bet Big on Almost AnythingA Startup Wants to Rescue You From Browser Tab HellElon Musk’s 420-Degree Edgelord Pivot Is Getting StaleMark Zuckerberg Is Blowing Up Instagram to Try and Catch TikTok©2022 Bloomberg L.P.'\n",
    "sentences_test = pd.Series(sentences_test)\n",
    "sentences_test = sentences_test.to_numpy()\n",
    "sentences_test = count_vect_test.transform(sentences_test)\n",
    "sentences_test = clf_test.predict(sentences_test)\n",
    "print(sentences_test)"
   ]
  },
  {
   "cell_type": "code",
   "execution_count": null,
   "id": "a6ee4270",
   "metadata": {},
   "outputs": [],
   "source": []
  }
 ],
 "metadata": {
  "kernelspec": {
   "display_name": "Python 3 (ipykernel)",
   "language": "python",
   "name": "python3"
  },
  "language_info": {
   "codemirror_mode": {
    "name": "ipython",
    "version": 3
   },
   "file_extension": ".py",
   "mimetype": "text/x-python",
   "name": "python",
   "nbconvert_exporter": "python",
   "pygments_lexer": "ipython3",
   "version": "3.8.10"
  }
 },
 "nbformat": 4,
 "nbformat_minor": 5
}
